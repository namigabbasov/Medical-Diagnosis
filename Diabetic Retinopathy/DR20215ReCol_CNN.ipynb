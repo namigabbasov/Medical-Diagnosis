{
 "cells": [
  {
   "cell_type": "markdown",
   "id": "7071448c",
   "metadata": {},
   "source": [
    "Diabetic Retinopathy 2015 Data Colored Resized: https://www.kaggle.com/datasets/sovitrath/diabetic-retinopathy-2015-data-colored-resized/data"
   ]
  },
  {
   "cell_type": "code",
   "execution_count": 2,
   "id": "a0bb1208",
   "metadata": {},
   "outputs": [],
   "source": [
    "import os\n",
    "base_dir = '/Users/namigabbasov/Desktop/Projects-Fall-2024/RetinoVision/DR2015Colored_Resized'\n",
    "image_dir = os.path.join(base_dir, 'images')  # Directory containing images in subfolders\n",
    "labels_path = os.path.join(base_dir, 'labels.csv')  # Path to labels.csv"
   ]
  },
  {
   "cell_type": "code",
   "execution_count": 3,
   "id": "75de0ebd",
   "metadata": {},
   "outputs": [
    {
     "data": {
      "text/plain": [
       "'/Users/namigabbasov/Desktop/Projects-Fall-2024/RetinoVision/DR2015Colored_Resized/labels.csv'"
      ]
     },
     "execution_count": 3,
     "metadata": {},
     "output_type": "execute_result"
    }
   ],
   "source": [
    "labels_path"
   ]
  }
 ],
 "metadata": {
  "kernelspec": {
   "display_name": "Python 3 (ipykernel)",
   "language": "python",
   "name": "python3"
  },
  "language_info": {
   "codemirror_mode": {
    "name": "ipython",
    "version": 3
   },
   "file_extension": ".py",
   "mimetype": "text/x-python",
   "name": "python",
   "nbconvert_exporter": "python",
   "pygments_lexer": "ipython3",
   "version": "3.11.5"
  }
 },
 "nbformat": 4,
 "nbformat_minor": 5
}
